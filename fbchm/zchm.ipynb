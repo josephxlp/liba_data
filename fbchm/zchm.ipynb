{
 "cells": [
  {
   "cell_type": "code",
   "execution_count": null,
   "metadata": {},
   "outputs": [],
   "source": [
    "import os \n",
    "from glob import glob\n",
    "import subprocess"
   ]
  },
  {
   "cell_type": "code",
   "execution_count": 28,
   "metadata": {},
   "outputs": [],
   "source": [
    "def removefiles(files):\n",
    "    for fi in files:\n",
    "        os.remove(fi)"
   ]
  },
  {
   "cell_type": "code",
   "execution_count": 72,
   "metadata": {},
   "outputs": [
    {
     "name": "stdout",
     "output_type": "stream",
     "text": [
      "84\n",
      "42\n",
      "42\n"
     ]
    }
   ],
   "source": [
    "fpath = \"/media/ljp238/12TBWolf/ARCHIEVE/FB_CHM/LMK/*.tif\"\n",
    "files = glob(fpath); print(len(files))\n",
    "#removefiles(files)\n",
    "m1files = [i for i in files if i.endswith('masked.tif')];print(len(m1files))\n",
    "m2files = [i for i in files if 'masked.tif' not in i];print(len(m1files))"
   ]
  },
  {
   "cell_type": "code",
   "execution_count": null,
   "metadata": {},
   "outputs": [],
   "source": [
    "\n",
    "\n",
    "def filelist2txt(filelist, txt):\n",
    "    \"\"\"Writes a list of file paths to a text file.\"\"\"\n",
    "    with open(txt, 'w') as f:\n",
    "        f.writelines(f\"{fi}\\n\" for fi in filelist)\n",
    "\n",
    "def buildvrt(txt, vrt=None, epsg='4749'):\n",
    "    \"\"\"Builds a VRT file using GDAL from a text file containing file paths.\"\"\"\n",
    "    if vrt is None:\n",
    "        vrt = txt.replace('.txt', '.vrt')\n",
    "\n",
    "    if epsg is None:\n",
    "        cmd = ['gdalbuildvrt', '-input_file_list', txt, vrt]\n",
    "    else:\n",
    "        cmd = ['gdalbuildvrt', '-a_srs', f\"EPSG:{epsg}\", '-input_file_list', txt, vrt]\n",
    "\n",
    "    try:\n",
    "        subprocess.run(cmd, check=True)\n",
    "    except subprocess.CalledProcessError as e:\n",
    "        print(f\"Error: gdalbuildvrt failed with error code {e.returncode}\")\n",
    "\n",
    "def filelist2vrt(filelist, txt):\n",
    "    \"\"\"Creates a VRT file from a list of file paths.\"\"\"\n",
    "    filelist2txt(filelist, txt)\n",
    "    buildvrt(txt)\n"
   ]
  },
  {
   "cell_type": "code",
   "execution_count": 61,
   "metadata": {},
   "outputs": [],
   "source": [
    "VRT_dpath = \"/media/ljp238/12TBWolf/ARCHIEVE/ARCHIVE_VRT\"\n",
    "# 4979 4326"
   ]
  },
  {
   "cell_type": "code",
   "execution_count": 62,
   "metadata": {},
   "outputs": [
    {
     "name": "stdout",
     "output_type": "stream",
     "text": [
      "0...10...20...30...40...50...60...70...80...90...100 - done.\n",
      "0...10...20...30...40...50...60...70...80...90...100 - done.\n"
     ]
    }
   ],
   "source": [
    "FB_CHM_masked_txt = os.path.join(VRT_dpath, 'FB_CHM_masked.txt')\n",
    "FB_CHM_txt = os.path.join(VRT_dpath, 'FB_CHM.txt')\n",
    "\n",
    "filelist2vrt(m1files, FB_CHM_masked_txt)\n",
    "filelist2vrt(m2files, FB_CHM_txt)"
   ]
  },
  {
   "cell_type": "code",
   "execution_count": 69,
   "metadata": {},
   "outputs": [],
   "source": [
    "from osgeo import gdal\n",
    "\n",
    "def resample_raster(input_raster, output_raster, algo ='nearest', resolution=1/3600, epsg=4979):\n",
    "    \"\"\"\n",
    "    Resamples a raster to a specified resolution and reprojects it to a given EPSG.\n",
    "\n",
    "    Parameters:\n",
    "    - input_raster (str): Path to the input raster file.\n",
    "    - output_raster (str): Path to save the output resampled raster.\n",
    "    - resolution (float): Output resolution in degrees (default: 1/3600).\n",
    "    - epsg (int): EPSG code for the target projection (default: 4947).\n",
    "\n",
    "    Returns:\n",
    "    - None\n",
    "    \"\"\"\n",
    "    output_raster = output_raster.replace('.tif', f'{algo}.tif')\n",
    "    if os.path.isfile(output_raster):\n",
    "        return None\n",
    "\n",
    "    options = gdal.WarpOptions(\n",
    "        format='GTiff',  # Output format (GeoTIFF)\n",
    "        xRes=resolution,  # X resolution\n",
    "        yRes=resolution,  # Y resolution\n",
    "        dstSRS=f\"EPSG:{epsg}\",  # Target coordinate system\n",
    "        resampleAlg=algo,# Resampling method (change to 'cubic', 'nearest' if needed) 'bilinear\n",
    "    )\n",
    "    \n",
    "    gdal.Warp(output_raster, input_raster, options=options)\n"
   ]
  },
  {
   "cell_type": "code",
   "execution_count": 64,
   "metadata": {},
   "outputs": [
    {
     "name": "stdout",
     "output_type": "stream",
     "text": [
      "42\n",
      "42\n"
     ]
    }
   ],
   "source": [
    "m1files = [i for i in files if i.endswith('masked.tif')];print(len(m1files))\n",
    "m2files = [i for i in files if 'masked.tif' not in i];print(len(m1files))"
   ]
  },
  {
   "cell_type": "code",
   "execution_count": 65,
   "metadata": {},
   "outputs": [],
   "source": [
    "dout = \"/media/ljp238/12TBWolf/ARCHIEVE/FB_CHM/RESAMPLE/Ymasked/\""
   ]
  },
  {
   "cell_type": "code",
   "execution_count": null,
   "metadata": {},
   "outputs": [],
   "source": [
    "for i, fi in enumerate(m1files):\n",
    "    if i > 0: break\n",
    "    fo = os.path.join(dout, os.path.basename(fi))\n",
    "    for algo in ['nearest','bilinear']:\n",
    "        resample_raster(fi, fo,algo =algo)\n",
    "    "
   ]
  },
  {
   "cell_type": "code",
   "execution_count": null,
   "metadata": {},
   "outputs": [],
   "source": []
  }
 ],
 "metadata": {
  "kernelspec": {
   "display_name": "agluon",
   "language": "python",
   "name": "python3"
  },
  "language_info": {
   "codemirror_mode": {
    "name": "ipython",
    "version": 3
   },
   "file_extension": ".py",
   "mimetype": "text/x-python",
   "name": "python",
   "nbconvert_exporter": "python",
   "pygments_lexer": "ipython3",
   "version": "3.11.11"
  }
 },
 "nbformat": 4,
 "nbformat_minor": 2
}
