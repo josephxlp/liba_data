{
 "cells": [
  {
   "cell_type": "code",
   "execution_count": 21,
   "metadata": {},
   "outputs": [],
   "source": [
    "import os \n",
    "from glob import glob"
   ]
  },
  {
   "cell_type": "code",
   "execution_count": 28,
   "metadata": {},
   "outputs": [],
   "source": [
    "def removefiles(files):\n",
    "    for fi in files:\n",
    "        os.remove(fi)"
   ]
  },
  {
   "cell_type": "code",
   "execution_count": 33,
   "metadata": {},
   "outputs": [
    {
     "name": "stdout",
     "output_type": "stream",
     "text": [
      "84\n"
     ]
    }
   ],
   "source": [
    "fpath = \"/media/ljp238/12TBWolf/ARCHIEVE/FB_CHM/LMK/*.tif\"\n",
    "files = glob(fpath); print(len(files))\n",
    "#removefiles(files)"
   ]
  },
  {
   "cell_type": "code",
   "execution_count": 41,
   "metadata": {},
   "outputs": [
    {
     "name": "stdout",
     "output_type": "stream",
     "text": [
      "42\n",
      "42\n"
     ]
    }
   ],
   "source": [
    "m1files = [i for i in files if i.endswith('masked.tif')];print(len(m1files))\n",
    "m2files = [i for i in files if 'masked.tif' not in i];print(len(m1files))"
   ]
  },
  {
   "cell_type": "code",
   "execution_count": null,
   "metadata": {},
   "outputs": [],
   "source": [
    "def filelist2txt(filelist, txt):\n",
    "    with open(txt, 'w') as f:\n",
    "        for fi in filelist:\n",
    "            f.write(fi+'\\n')\n",
    "\n",
    "\n",
    "def buildvrt(txt, epsg='4326'): # 4749\n",
    "    vrt = txt.replace('.txt', '.vrt')\n",
    "    cmd =  f'gdalbuildvrt -a_srs {epsg} -input_file_list {txt} {vrt}'\n",
    "    os.system(cmd)\n",
    "\n",
    "\n",
    "def filelist2vrt(filelist, txt):\n",
    "    filelist2txt(filelist, txt)\n",
    "    buildvrt(txt)\n"
   ]
  },
  {
   "cell_type": "code",
   "execution_count": 48,
   "metadata": {},
   "outputs": [],
   "source": [
    "VRT_dpath = \"/media/ljp238/12TBWolf/ARCHIEVE/ARCHIVE_VRT\""
   ]
  },
  {
   "cell_type": "code",
   "execution_count": 49,
   "metadata": {},
   "outputs": [
    {
     "name": "stdout",
     "output_type": "stream",
     "text": [
      "0...10...20...30...40...50...60...70...80...90...100 - done.\n",
      "0...10...20...30...40...50...60...70...80...90...100 - done.\n"
     ]
    }
   ],
   "source": [
    "FB_CHM_masked_txt = os.path.join(VRT_dpath, 'FB_CHM_masked.txt')\n",
    "FB_CHM_txt = os.path.join(VRT_dpath, 'FB_CHM.txt')\n",
    "\n",
    "filelist2vrt(m1files, FB_CHM_masked_txt)\n",
    "filelist2vrt(m2files, FB_CHM_txt)"
   ]
  },
  {
   "cell_type": "code",
   "execution_count": null,
   "metadata": {},
   "outputs": [],
   "source": []
  },
  {
   "cell_type": "code",
   "execution_count": null,
   "metadata": {},
   "outputs": [],
   "source": []
  }
 ],
 "metadata": {
  "kernelspec": {
   "display_name": "agluon",
   "language": "python",
   "name": "python3"
  },
  "language_info": {
   "codemirror_mode": {
    "name": "ipython",
    "version": 3
   },
   "file_extension": ".py",
   "mimetype": "text/x-python",
   "name": "python",
   "nbconvert_exporter": "python",
   "pygments_lexer": "ipython3",
   "version": "3.11.11"
  }
 },
 "nbformat": 4,
 "nbformat_minor": 2
}
