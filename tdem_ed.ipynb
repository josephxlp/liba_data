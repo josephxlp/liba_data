{
 "cells": [
  {
   "cell_type": "code",
   "execution_count": 7,
   "metadata": {},
   "outputs": [],
   "source": [
    "import pandas as pd\n",
    "import os"
   ]
  },
  {
   "cell_type": "code",
   "execution_count": 11,
   "metadata": {},
   "outputs": [
    {
     "name": "stdout",
     "output_type": "stream",
     "text": [
      "19388\n"
     ]
    }
   ],
   "source": [
    "output_dir = \"/home/ljp238/Downloads/tdem_batches/\"\n",
    "txtfile = './tandemx_utils/TDM30_EDEM-url-list.txt'\n",
    "urls = pd.read_csv(txtfile).squeeze().tolist(); print(len(urls))"
   ]
  },
  {
   "cell_type": "code",
   "execution_count": 16,
   "metadata": {},
   "outputs": [
    {
     "name": "stdout",
     "output_type": "stream",
     "text": [
      "Saved 776 URLs in /home/ljp238/Downloads/tdem_batches/batch_1/batch_1.txt\n",
      "Saved 776 URLs in /home/ljp238/Downloads/tdem_batches/batch_2/batch_2.txt\n",
      "Saved 776 URLs in /home/ljp238/Downloads/tdem_batches/batch_3/batch_3.txt\n",
      "Saved 776 URLs in /home/ljp238/Downloads/tdem_batches/batch_4/batch_4.txt\n",
      "Saved 776 URLs in /home/ljp238/Downloads/tdem_batches/batch_5/batch_5.txt\n",
      "Saved 776 URLs in /home/ljp238/Downloads/tdem_batches/batch_6/batch_6.txt\n",
      "Saved 776 URLs in /home/ljp238/Downloads/tdem_batches/batch_7/batch_7.txt\n",
      "Saved 776 URLs in /home/ljp238/Downloads/tdem_batches/batch_8/batch_8.txt\n",
      "Saved 776 URLs in /home/ljp238/Downloads/tdem_batches/batch_9/batch_9.txt\n",
      "Saved 776 URLs in /home/ljp238/Downloads/tdem_batches/batch_10/batch_10.txt\n",
      "Saved 776 URLs in /home/ljp238/Downloads/tdem_batches/batch_11/batch_11.txt\n",
      "Saved 776 URLs in /home/ljp238/Downloads/tdem_batches/batch_12/batch_12.txt\n",
      "Saved 776 URLs in /home/ljp238/Downloads/tdem_batches/batch_13/batch_13.txt\n",
      "Saved 776 URLs in /home/ljp238/Downloads/tdem_batches/batch_14/batch_14.txt\n",
      "Saved 776 URLs in /home/ljp238/Downloads/tdem_batches/batch_15/batch_15.txt\n",
      "Saved 776 URLs in /home/ljp238/Downloads/tdem_batches/batch_16/batch_16.txt\n",
      "Saved 776 URLs in /home/ljp238/Downloads/tdem_batches/batch_17/batch_17.txt\n",
      "Saved 776 URLs in /home/ljp238/Downloads/tdem_batches/batch_18/batch_18.txt\n",
      "Saved 776 URLs in /home/ljp238/Downloads/tdem_batches/batch_19/batch_19.txt\n",
      "Saved 776 URLs in /home/ljp238/Downloads/tdem_batches/batch_20/batch_20.txt\n",
      "Saved 776 URLs in /home/ljp238/Downloads/tdem_batches/batch_21/batch_21.txt\n",
      "Saved 776 URLs in /home/ljp238/Downloads/tdem_batches/batch_22/batch_22.txt\n",
      "Saved 776 URLs in /home/ljp238/Downloads/tdem_batches/batch_23/batch_23.txt\n",
      "Saved 776 URLs in /home/ljp238/Downloads/tdem_batches/batch_24/batch_24.txt\n",
      "Saved 764 URLs in /home/ljp238/Downloads/tdem_batches/batch_25/batch_25.txt\n",
      "URL splitting into 200GB batches completed.\n"
     ]
    }
   ],
   "source": [
    "\n",
    "# Define chunk size\n",
    "total_size_gb = 5000  # Total dataset size in GB\n",
    "batch_size_gb = 200   # Target batch size in GB\n",
    "num_batches = round(total_size_gb / batch_size_gb)  # Number of batches\n",
    "urls_per_batch = round(len(urls) / num_batches)  # Approximate number of URLs per batch\n",
    "\n",
    "os.makedirs(output_dir, exist_ok=True)\n",
    "\n",
    "# Split and save URL batches\n",
    "for i in range(num_batches):\n",
    "    batch_urls = urls[i * urls_per_batch: (i + 1) * urls_per_batch]\n",
    "    id = i+1\n",
    "    batch_dir = os.path.join(output_dir, f\"batch_{id}\")\n",
    "    os.makedirs(batch_dir,exist_ok=True)\n",
    "    \n",
    "    batch_filename = os.path.join(batch_dir,f\"batch_{id}.txt\")\n",
    "    with open(batch_filename, \"w\") as f:\n",
    "        f.write(\"\\n\".join(batch_urls))\n",
    "    \n",
    "    print(f\"Saved {len(batch_urls)} URLs in {batch_filename}\")\n",
    "\n",
    "print(\"URL splitting into 200GB batches completed.\")\n"
   ]
  },
  {
   "cell_type": "code",
   "execution_count": null,
   "metadata": {},
   "outputs": [],
   "source": []
  }
 ],
 "metadata": {
  "kernelspec": {
   "display_name": "agluon",
   "language": "python",
   "name": "python3"
  },
  "language_info": {
   "codemirror_mode": {
    "name": "ipython",
    "version": 3
   },
   "file_extension": ".py",
   "mimetype": "text/x-python",
   "name": "python",
   "nbconvert_exporter": "python",
   "pygments_lexer": "ipython3",
   "version": "3.11.11"
  }
 },
 "nbformat": 4,
 "nbformat_minor": 2
}
