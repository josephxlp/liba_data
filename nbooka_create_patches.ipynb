{
 "cells": [
  {
   "cell_type": "markdown",
   "metadata": {},
   "source": [
    "###  STEPS:\n",
    "- copy files by from edem download by tiles \n",
    "- unzip, and grab the main files \n",
    "- create the patches"
   ]
  },
  {
   "cell_type": "code",
   "execution_count": 10,
   "metadata": {},
   "outputs": [],
   "source": [
    "import os \n",
    "from glob import glob\n",
    "from upaths import file_paths,tiles_dpath,patches_dpath\n",
    "\n",
    "from geotile import GeoTile # make my own that is faster \n",
    "from os.path import join\n",
    "from os import makedirs,system\n",
    "from concurrent.futures import ProcessPoolExecutor\n",
    "\n",
    "def geotile_generate_tiles(tif_path, dir_path):\n",
    "   \n",
    "   gt = GeoTile(tif_path)\n",
    "   gt.generate_tiles(dir_path,tile_x=256, tile_y=256, stride_x=256, stride_y=256)\n",
    "   gt.close()\n",
    "   # MAKE THIS 10 PADDING AROUND AL INCLUDING THE COURSNER , IF NOT THAT COPY \n",
    "\n",
    "\n",
    "def tileindex(tdir,gpkg): #pkg = tdir + '.gpkg'\n",
    "   cmd = f'gdaltindex -t_srs EPSG:4326 -f GPKG {gpkg} {join(tdir)}/*.tif '\n",
    "   system(cmd)"
   ]
  },
  {
   "cell_type": "code",
   "execution_count": 11,
   "metadata": {},
   "outputs": [
    {
     "name": "stdout",
     "output_type": "stream",
     "text": [
      "['N09E105', 'N09E106', 'N10E104', 'N10E105', 'N10E106', 'N11E104', 'N11E105', 'N12E103', 'N12E104', 'N12E105', 'N13E103', 'N13E104', 'N13E105', 'S01W063', 'S01W064', 'S02W063', 'S02W064']\n"
     ]
    }
   ],
   "source": [
    "tilenames = [path.split('/')[-1].replace('_tdem_DEM.tif', '') for path in file_paths]\n",
    "print(tilenames)"
   ]
  },
  {
   "cell_type": "code",
   "execution_count": 13,
   "metadata": {},
   "outputs": [],
   "source": [
    "pattern = \"/media/ljp238/12TBWolf/RSPROX/OUT_TILES/TILES12/*/*_tdem_DEM.tif\"\n",
    "file_paths = glob(pattern)\n",
    "tiles_dpath = \"/media/ljp238/12TBWolf/RSPROX/OUT_TILES/AUXPATCHES/TILES12/TIFFS/\"\n",
    "patches_dpath = \"/media/ljp238/12TBWolf/RSPROX/OUT_TILES/AUXPATCHES/TILES12/GPKG/\"\n",
    "os.makedirs(tiles_dpath, exist_ok=True)\n",
    "os.makedirs(patches_dpath, exist_ok=True)"
   ]
  },
  {
   "cell_type": "markdown",
   "metadata": {},
   "source": [
    "gen patches tif "
   ]
  },
  {
   "cell_type": "code",
   "execution_count": 15,
   "metadata": {},
   "outputs": [
    {
     "name": "stdout",
     "output_type": "stream",
     "text": [
      "done\n"
     ]
    }
   ],
   "source": [
    "with ProcessPoolExecutor() as PEX:\n",
    "    for file_path, tile_name in zip(file_paths, tilenames):\n",
    "        #print(file_path,'',tile_name)\n",
    "        tdir = join(tiles_dpath, tile_name)\n",
    "        makedirs(tdir, exist_ok=True)\n",
    "        PEX.submit(geotile_generate_tiles, file_path, tdir)\n",
    "                \n",
    "print('done')"
   ]
  },
  {
   "cell_type": "markdown",
   "metadata": {},
   "source": [
    "gen patches gpkg"
   ]
  },
  {
   "cell_type": "code",
   "execution_count": null,
   "metadata": {},
   "outputs": [],
   "source": [
    "with ProcessPoolExecutor() as PEX:\n",
    "    for tile_name in  tilenames:\n",
    "        tdir = join(tiles_dpath, tile_name)\n",
    "        \n",
    "        print(tdir)\n",
    "        tfiles = glob(f'{tdir}/*.tif')\n",
    "        print(len(tfiles))\n",
    "        print(tdir,'',tile_name)\n",
    "        #pdir = join(patches_dpath, tile_name)\n",
    "        gpkg = join(patches_dpath,f'{tile_name}.gpkg' )\n",
    "        print(gpkg)\n",
    "        #makedirs(pdir, exist_ok=True)\n",
    "        PEX.submit(tileindex,tdir,gpkg)"
   ]
  },
  {
   "cell_type": "code",
   "execution_count": null,
   "metadata": {},
   "outputs": [],
   "source": []
  }
 ],
 "metadata": {
  "kernelspec": {
   "display_name": "agluon",
   "language": "python",
   "name": "python3"
  },
  "language_info": {
   "codemirror_mode": {
    "name": "ipython",
    "version": 3
   },
   "file_extension": ".py",
   "mimetype": "text/x-python",
   "name": "python",
   "nbconvert_exporter": "python",
   "pygments_lexer": "ipython3",
   "version": "3.11.11"
  }
 },
 "nbformat": 4,
 "nbformat_minor": 2
}
